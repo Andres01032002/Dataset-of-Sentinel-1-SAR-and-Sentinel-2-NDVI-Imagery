{
  "cells": [
    {
      "cell_type": "code",
      "execution_count": 1,
      "metadata": {
        "id": "EAKJloS6VFlW",
        "colab": {
          "base_uri": "https://localhost:8080/",
          "height": 34
        },
        "outputId": "d7c2499b-9506-4bfd-e41c-393dd8ba7a0d"
      },
      "outputs": [
        {
          "output_type": "stream",
          "name": "stdout",
          "text": [
            "Mounted at /content/drive\n"
          ]
        }
      ],
      "source": [
        "from google.colab import drive\n",
        "import ee\n",
        "import geemap\n",
        "import pandas as pd\n",
        "import numpy as np\n",
        "import random\n",
        "import os\n",
        "import cv2 as cv\n",
        "\n",
        "\n",
        "drive.mount('/content/drive')\n",
        "\n",
        "# Trigger the authentication flow.\n",
        "ee.Authenticate()\n",
        "\n",
        "# Initialize the library.\n",
        "ee.Initialize(project='andres-gara2024')"
      ]
    },
    {
      "cell_type": "code",
      "execution_count": 2,
      "metadata": {
        "id": "ztsD9SzaVPHq",
        "colab": {
          "base_uri": "https://localhost:8080/",
          "height": 17
        },
        "outputId": "a7bad25e-db36-4ff9-e3d3-4365ff66dccf"
      },
      "outputs": [
        {
          "output_type": "display_data",
          "data": {
            "text/plain": [
              "<IPython.core.display.HTML object>"
            ],
            "text/html": [
              "\n",
              "            <style>\n",
              "                .geemap-dark {\n",
              "                    --jp-widgets-color: white;\n",
              "                    --jp-widgets-label-color: white;\n",
              "                    --jp-ui-font-color1: white;\n",
              "                    --jp-layout-color2: #454545;\n",
              "                    background-color: #383838;\n",
              "                }\n",
              "\n",
              "                .geemap-dark .jupyter-button {\n",
              "                    --jp-layout-color3: #383838;\n",
              "                }\n",
              "\n",
              "                .geemap-colab {\n",
              "                    background-color: var(--colab-primary-surface-color, white);\n",
              "                }\n",
              "\n",
              "                .geemap-colab .jupyter-button {\n",
              "                    --jp-layout-color3: var(--colab-primary-surface-color, white);\n",
              "                }\n",
              "            </style>\n",
              "            "
            ]
          },
          "metadata": {}
        }
      ],
      "source": [
        "def sar_imageries_mean(start, end, latitude, longitude, polarization, direction='DESCENDING', degrees=0.1):\n",
        "    degrees2 = degrees / 2\n",
        "    p11 = ee.Geometry.Point(longitude, latitude)\n",
        "    p12 = ee.Geometry.Point(longitude, latitude + degrees)\n",
        "    p21 = ee.Geometry.Point(longitude + degrees2, latitude)\n",
        "    p22 = ee.Geometry.Point(longitude + degrees2, latitude + degrees)\n",
        "\n",
        "    sar = (\n",
        "        ee.ImageCollection('COPERNICUS/S1_GRD')\n",
        "        .filter(ee.Filter.listContains('transmitterReceiverPolarisation', polarization))\n",
        "        .filterBounds(p11)\n",
        "        .filterBounds(p12)\n",
        "        .filterBounds(p21)\n",
        "        .filterBounds(p22)\n",
        "        .filterDate(start, end)\n",
        "        .filter(ee.Filter.eq('instrumentMode', 'IW'))\n",
        "        .filter(ee.Filter.eq('orbitProperties_pass', direction))\n",
        "        .select(polarization)\n",
        "    )\n",
        "\n",
        "    roi = ee.Geometry.Rectangle(longitude, latitude, longitude + degrees, latitude + degrees / 2)\n",
        "    sar_roi = sar.mean().clip(roi)\n",
        "\n",
        "    return sar_roi\n",
        "\n",
        "\n",
        "def optics_imageries_mean(start, end, latitude, longitude, cloudiness=5, water_percentage=40, snow_percentage=5, vegetation_percentage=10, degrees=0.1):\n",
        "    degrees2 = degrees / 2\n",
        "    p11 = ee.Geometry.Point(longitude, latitude)\n",
        "    p12 = ee.Geometry.Point(longitude, latitude + degrees)\n",
        "    p21 = ee.Geometry.Point(longitude + degrees2, latitude)\n",
        "    p22 = ee.Geometry.Point(longitude + degrees2, latitude + degrees)\n",
        "\n",
        "    optics = (\n",
        "        ee.ImageCollection('COPERNICUS/S2_SR_HARMONIZED')\n",
        "        .filterDate(start, end)\n",
        "        .filter(ee.Filter.lt('CLOUDY_PIXEL_PERCENTAGE', cloudiness))\n",
        "        .filter(ee.Filter.lt('SNOW_ICE_PERCENTAGE', snow_percentage))\n",
        "        .filter(ee.Filter.lt('WATER_PERCENTAGE', water_percentage))\n",
        "        .filter(ee.Filter.gt('VEGETATION_PERCENTAGE', vegetation_percentage))\n",
        "        .filterBounds(p11)\n",
        "        .filterBounds(p12)\n",
        "        .filterBounds(p21)\n",
        "        .filterBounds(p22)\n",
        "    )\n",
        "\n",
        "    roi = ee.Geometry.Rectangle(longitude, latitude, longitude + degrees, latitude + degrees / 2)\n",
        "    optics_roi = optics.mean().clip(roi)\n",
        "    size_value = optics.size().getInfo()\n",
        "\n",
        "    if size_value > 0:\n",
        "        optics_list = optics.toList(optics.size())\n",
        "\n",
        "        cloudiness_volatil = []\n",
        "        water_percentage_volatil = []\n",
        "        vegetation_percentage_volatil = []\n",
        "\n",
        "        for i in range(optics_list.size().getInfo()):\n",
        "            img = optics.toList(optics_list.size()).get(i)\n",
        "            img = ee.Image(img)\n",
        "            img = img.clip(roi)\n",
        "\n",
        "            propiedades = img.getInfo()\n",
        "            cloudiness_value = propiedades['properties']['CLOUD_COVERAGE_ASSESSMENT']\n",
        "            water_percentage_value = propiedades['properties']['WATER_PERCENTAGE']\n",
        "            vegetation_percentage_value = propiedades['properties']['VEGETATION_PERCENTAGE']\n",
        "\n",
        "            cloudiness_volatil.append(cloudiness_value)\n",
        "            water_percentage_volatil.append(water_percentage_value)\n",
        "            vegetation_percentage_volatil.append(vegetation_percentage_value)\n",
        "\n",
        "        cloudiness_mean_volatil = sum(cloudiness_volatil) / len(cloudiness_volatil)\n",
        "        water_percentage_mean_volatil = sum(water_percentage_volatil) / len(water_percentage_volatil)\n",
        "        vegetation_percentage_mean_volatil = sum(vegetation_percentage_volatil) / len(vegetation_percentage_volatil)\n",
        "\n",
        "        optics_roi = optics.mean().clip(roi)\n",
        "        return size_value, optics_roi, cloudiness_mean_volatil, water_percentage_mean_volatil, vegetation_percentage_mean_volatil\n",
        "\n",
        "    return size_value, optics_roi, 0, 0, 0\n"
      ]
    },
    {
      "cell_type": "code",
      "source": [
        "folder_sar = '/content/drive/MyDrive/Main_Folder/Original/SAR/'\n",
        "folder_ndvi = '/content/drive/MyDrive/Main_Folder/Original/NDVI/'\n",
        "folder_optics = '/content/drive/MyDrive/Main_Folder/Original/Optics/'\n",
        "metadata = '/content/drive/MyDrive/Main_Folder/Metadata/'\n",
        "\n",
        "os.makedirs(folder_sar + 'VV', exist_ok=True)\n",
        "os.makedirs(folder_sar + 'VH', exist_ok=True)\n",
        "os.makedirs(folder_ndvi, exist_ok=True)\n",
        "os.makedirs(folder_optics, exist_ok=True)\n",
        "os.makedirs(metadata, exist_ok=True)\n"
      ],
      "metadata": {
        "id": "tLKOGDmLCGF-",
        "colab": {
          "base_uri": "https://localhost:8080/",
          "height": 17
        },
        "outputId": "71059c66-84b9-4889-8157-ea648a74d2c7"
      },
      "execution_count": 3,
      "outputs": [
        {
          "output_type": "display_data",
          "data": {
            "text/plain": [
              "<IPython.core.display.HTML object>"
            ],
            "text/html": [
              "\n",
              "            <style>\n",
              "                .geemap-dark {\n",
              "                    --jp-widgets-color: white;\n",
              "                    --jp-widgets-label-color: white;\n",
              "                    --jp-ui-font-color1: white;\n",
              "                    --jp-layout-color2: #454545;\n",
              "                    background-color: #383838;\n",
              "                }\n",
              "\n",
              "                .geemap-dark .jupyter-button {\n",
              "                    --jp-layout-color3: #383838;\n",
              "                }\n",
              "\n",
              "                .geemap-colab {\n",
              "                    background-color: var(--colab-primary-surface-color, white);\n",
              "                }\n",
              "\n",
              "                .geemap-colab .jupyter-button {\n",
              "                    --jp-layout-color3: var(--colab-primary-surface-color, white);\n",
              "                }\n",
              "            </style>\n",
              "            "
            ]
          },
          "metadata": {}
        }
      ]
    },
    {
      "cell_type": "code",
      "execution_count": 4,
      "metadata": {
        "id": "gtqbWyDMVOv5",
        "collapsed": true,
        "colab": {
          "base_uri": "https://localhost:8080/",
          "height": 1000
        },
        "outputId": "33d4bd02-b056-4580-d541-d3c4f5f31ea7"
      },
      "outputs": [
        {
          "output_type": "display_data",
          "data": {
            "text/plain": [
              "<IPython.core.display.HTML object>"
            ],
            "text/html": [
              "\n",
              "            <style>\n",
              "                .geemap-dark {\n",
              "                    --jp-widgets-color: white;\n",
              "                    --jp-widgets-label-color: white;\n",
              "                    --jp-ui-font-color1: white;\n",
              "                    --jp-layout-color2: #454545;\n",
              "                    background-color: #383838;\n",
              "                }\n",
              "\n",
              "                .geemap-dark .jupyter-button {\n",
              "                    --jp-layout-color3: #383838;\n",
              "                }\n",
              "\n",
              "                .geemap-colab {\n",
              "                    background-color: var(--colab-primary-surface-color, white);\n",
              "                }\n",
              "\n",
              "                .geemap-colab .jupyter-button {\n",
              "                    --jp-layout-color3: var(--colab-primary-surface-color, white);\n",
              "                }\n",
              "            </style>\n",
              "            "
            ]
          },
          "metadata": {}
        },
        {
          "output_type": "stream",
          "name": "stdout",
          "text": [
            "Generating URL ...\n",
            "Downloading data from https://earthengine.googleapis.com/v1/projects/andres-gara2024/thumbnails/50139c745b52f6b9f068bd8ec137e4d9-403a6500f2e2ecfc3d339a5874d34c34:getPixels\n",
            "Please wait ...\n",
            "Data downloaded to /content/drive/MyDrive/Main_Folder/Original/NDVI/0.tif\n",
            "Generating URL ...\n",
            "Downloading data from https://earthengine.googleapis.com/v1/projects/andres-gara2024/thumbnails/0e2111c1b63eae3532fd2e1325128800-3275fe5665b502aa301ece7566dde3fa:getPixels\n",
            "Please wait ...\n",
            "Data downloaded to /content/drive/MyDrive/Main_Folder/Original/Optics/0.tif\n",
            "Generating URL ...\n",
            "Downloading data from https://earthengine.googleapis.com/v1/projects/andres-gara2024/thumbnails/e52614dcf65c0dc5552ec5561f018fe4-6da1256cca363b4ce7a525682f010319:getPixels\n",
            "Please wait ...\n",
            "Data downloaded to /content/drive/MyDrive/Main_Folder/Original/SAR/VV/0.tif\n",
            "Generating URL ...\n",
            "Downloading data from https://earthengine.googleapis.com/v1/projects/andres-gara2024/thumbnails/e7fa668ea40fb0c159387f4b7f383bf6-99b1cf2bb07c74a2d1dab6f7646912c8:getPixels\n",
            "Please wait ...\n",
            "Data downloaded to /content/drive/MyDrive/Main_Folder/Original/SAR/VH/0.tif\n",
            "Imagery #(0) saved successfully!\n",
            "Generating URL ...\n",
            "Downloading data from https://earthengine.googleapis.com/v1/projects/andres-gara2024/thumbnails/628aebd72f8f88f243f5292900e50578-59eda3721a120522717505bcfae03b9b:getPixels\n",
            "Please wait ...\n",
            "Data downloaded to /content/drive/MyDrive/Main_Folder/Original/NDVI/1.tif\n",
            "Generating URL ...\n",
            "Downloading data from https://earthengine.googleapis.com/v1/projects/andres-gara2024/thumbnails/318a890094188b5844144a2ed8957ec6-e12ad088122796a94079d26c56eeea51:getPixels\n",
            "Please wait ...\n",
            "Data downloaded to /content/drive/MyDrive/Main_Folder/Original/Optics/1.tif\n",
            "Generating URL ...\n",
            "Downloading data from https://earthengine.googleapis.com/v1/projects/andres-gara2024/thumbnails/a3229907a9efb1e7f1e94b2ecb7a4b3a-f66e427bad7a12bc4dc5207840a03edb:getPixels\n",
            "Please wait ...\n",
            "Data downloaded to /content/drive/MyDrive/Main_Folder/Original/SAR/VV/1.tif\n",
            "Generating URL ...\n",
            "Downloading data from https://earthengine.googleapis.com/v1/projects/andres-gara2024/thumbnails/5428f1150d150af1d3095e0edc4e0f25-1a6c3720b1937c439289773e1e1de50e:getPixels\n",
            "Please wait ...\n",
            "Data downloaded to /content/drive/MyDrive/Main_Folder/Original/SAR/VH/1.tif\n",
            "Imagery #(1) saved successfully!\n",
            "Generating URL ...\n",
            "Downloading data from https://earthengine.googleapis.com/v1/projects/andres-gara2024/thumbnails/ded65b5bd9159319d22ce53d5c10b4ec-8c34aaea4da45af38ad4ddaff94b877a:getPixels\n",
            "Please wait ...\n",
            "Data downloaded to /content/drive/MyDrive/Main_Folder/Original/NDVI/2.tif\n",
            "Generating URL ...\n",
            "Downloading data from https://earthengine.googleapis.com/v1/projects/andres-gara2024/thumbnails/ced8227260b66b8217c93dec12790177-b266e45a1318d99f76e0894933743ee2:getPixels\n",
            "Please wait ...\n",
            "Data downloaded to /content/drive/MyDrive/Main_Folder/Original/Optics/2.tif\n",
            "Generating URL ...\n",
            "Downloading data from https://earthengine.googleapis.com/v1/projects/andres-gara2024/thumbnails/4b5196b223a07cfe40b1b6ad01a6be60-fd604a3d5468cfe3157ad1a20849afd9:getPixels\n",
            "Please wait ...\n",
            "Data downloaded to /content/drive/MyDrive/Main_Folder/Original/SAR/VV/2.tif\n",
            "Generating URL ...\n",
            "Downloading data from https://earthengine.googleapis.com/v1/projects/andres-gara2024/thumbnails/078f69e5186b97a4675d05803a19d210-18d9143b2c9ab863fa6b24cc02bb17f0:getPixels\n",
            "Please wait ...\n",
            "Data downloaded to /content/drive/MyDrive/Main_Folder/Original/SAR/VH/2.tif\n",
            "Imagery #(2) saved successfully!\n",
            "Generating URL ...\n",
            "Downloading data from https://earthengine.googleapis.com/v1/projects/andres-gara2024/thumbnails/768e18d3e1ebecb4070dbd3646819d6e-dfa3ff2a0131b3c6f7507054aa430174:getPixels\n",
            "Please wait ...\n",
            "Data downloaded to /content/drive/MyDrive/Main_Folder/Original/NDVI/3.tif\n",
            "Generating URL ...\n",
            "Downloading data from https://earthengine.googleapis.com/v1/projects/andres-gara2024/thumbnails/fd09518b3b311bb7711d2fbf1179f3ca-0ddbb1e5299c4d6519bdbca511e29909:getPixels\n",
            "Please wait ...\n",
            "Data downloaded to /content/drive/MyDrive/Main_Folder/Original/Optics/3.tif\n",
            "Generating URL ...\n",
            "Downloading data from https://earthengine.googleapis.com/v1/projects/andres-gara2024/thumbnails/e6872c2b59f4a08d2feab1f85101b834-8830735949b6c9746e220ffe77c056be:getPixels\n",
            "Please wait ...\n",
            "Data downloaded to /content/drive/MyDrive/Main_Folder/Original/SAR/VV/3.tif\n",
            "Generating URL ...\n",
            "Downloading data from https://earthengine.googleapis.com/v1/projects/andres-gara2024/thumbnails/c4f3560f2aefa56e58b0a4ad6f4c2307-72bd143246cd1ca9e6fa7d44d8ae80d6:getPixels\n",
            "Please wait ...\n",
            "Data downloaded to /content/drive/MyDrive/Main_Folder/Original/SAR/VH/3.tif\n",
            "Imagery #(3) saved successfully!\n",
            "Generating URL ...\n",
            "Downloading data from https://earthengine.googleapis.com/v1/projects/andres-gara2024/thumbnails/1e890a29bec6a0deca6695560a4ace04-3f5bcb534a6ec67e176b4213ae9e3841:getPixels\n",
            "Please wait ...\n",
            "Data downloaded to /content/drive/MyDrive/Main_Folder/Original/NDVI/4.tif\n",
            "Generating URL ...\n",
            "Downloading data from https://earthengine.googleapis.com/v1/projects/andres-gara2024/thumbnails/60758d8c1a440fe9ad531f3a21596276-7c71a4c2eb71a3504e6be424b1d71035:getPixels\n",
            "Please wait ...\n",
            "Data downloaded to /content/drive/MyDrive/Main_Folder/Original/Optics/4.tif\n",
            "Generating URL ...\n",
            "Downloading data from https://earthengine.googleapis.com/v1/projects/andres-gara2024/thumbnails/4a3d7458d54be8b4e0cc8d27925df426-2c288a2bf7ed39a46aebe26a9cf86539:getPixels\n",
            "Please wait ...\n",
            "Data downloaded to /content/drive/MyDrive/Main_Folder/Original/SAR/VV/4.tif\n",
            "Generating URL ...\n",
            "Downloading data from https://earthengine.googleapis.com/v1/projects/andres-gara2024/thumbnails/b0c15b7250de2eafa20f1b79c5c98db3-b2c265065e7625ddcf032f0fe508bb70:getPixels\n",
            "Please wait ...\n",
            "Data downloaded to /content/drive/MyDrive/Main_Folder/Original/SAR/VH/4.tif\n",
            "Imagery #(4) saved successfully!\n"
          ]
        }
      ],
      "source": [
        "i = 0\n",
        "number_images = 5\n",
        "\n",
        "initial_dates = []\n",
        "end_dates = []\n",
        "latitudes = []\n",
        "longitudes = []\n",
        "cloudiness_mean = []\n",
        "water_percentage_mean = []\n",
        "vegetation_percentage_mean = []\n",
        "\n",
        "while i < number_images:\n",
        "\n",
        "    latitude = random.uniform(-40, 40)\n",
        "    longitude = random.uniform(-179, 179)\n",
        "    day = random.randint(1, 28)\n",
        "    month = random.randint(1, 9)\n",
        "    year = random.randint(17, 23)\n",
        "\n",
        "    start_date = '20' + str(year) + '-' + str(month) + '-' + str(day)\n",
        "    end_date = '20' + str(year) + '-' + str(month + 3) + '-' + str(day)\n",
        "\n",
        "    sar_vv = sar_imageries_mean(start_date, end_date, latitude, longitude, polarization='VV')\n",
        "    sar_vh = sar_imageries_mean(start_date, end_date, latitude, longitude, polarization='VH')\n",
        "    size_value, optics, cloudiness_mean_volatil, water_percentage_mean_volatil, vegetation_percentage_mean_volatil = optics_imageries_mean(\n",
        "        start_date, end_date, latitude, longitude)\n",
        "\n",
        "    if size_value > 0:\n",
        "        size_value, optics, cloudiness_mean_volatil, water_percentage_mean_volatil, vegetation_percentage_mean_volatil = optics_imageries_mean(\n",
        "            start_date, end_date, latitude, longitude)\n",
        "        condition_1 = cloudiness_mean_volatil < 5\n",
        "        condition_2 = water_percentage_mean_volatil < 40\n",
        "        condition_3 = vegetation_percentage_mean_volatil > 10\n",
        "\n",
        "        if (len(sar_vv.getInfo()['bands']) and len(optics.getInfo()['bands']) and condition_1 and condition_2 and condition_3):\n",
        "\n",
        "            ndvi = optics.normalizedDifference(['B8', 'B4'])\n",
        "            optics_vis = optics.visualize(**{'min': 0.0, 'max': 3000, 'bands': ['B4', 'B3', 'B2']})\n",
        "            sar_vv_vis = sar_vv.visualize(**{'min': -25, 'max': 5})\n",
        "            sar_vh_vis = sar_vh.visualize(**{'min': -25, 'max': 5})\n",
        "\n",
        "            geemap.ee_export_image(ndvi, filename=folder_ndvi + str(i) + '.tif', scale=10, file_per_band=False)\n",
        "            geemap.ee_export_image(optics_vis, filename=folder_optics + str(i) + '.tif', scale=10, file_per_band=False)\n",
        "            geemap.ee_export_image(sar_vv_vis, filename=folder_sar + 'VV/' + str(i) + '.tif', scale=10, file_per_band=False)\n",
        "            geemap.ee_export_image(sar_vh_vis, filename=folder_sar + 'VH/' + str(i) + '.tif', scale=10, file_per_band=False)\n",
        "\n",
        "            initial_dates.append(start_date)\n",
        "            end_dates.append(end_date)\n",
        "            latitudes.append(latitude)\n",
        "            longitudes.append(longitude)\n",
        "\n",
        "            cloudiness_mean.append(cloudiness_mean_volatil)\n",
        "            water_percentage_mean.append(water_percentage_mean_volatil)\n",
        "            vegetation_percentage_mean.append(vegetation_percentage_mean_volatil)\n",
        "\n",
        "            print(f'Imagery #({i}) saved successfully!')\n",
        "            i += 1\n"
      ]
    },
    {
      "cell_type": "code",
      "execution_count": 6,
      "metadata": {
        "id": "KBdAc0PdMV18",
        "colab": {
          "base_uri": "https://localhost:8080/",
          "height": 17
        },
        "outputId": "716dd674-fa61-4178-c7c2-2e8c90cc1824"
      },
      "outputs": [
        {
          "output_type": "display_data",
          "data": {
            "text/plain": [
              "<IPython.core.display.HTML object>"
            ],
            "text/html": [
              "\n",
              "            <style>\n",
              "                .geemap-dark {\n",
              "                    --jp-widgets-color: white;\n",
              "                    --jp-widgets-label-color: white;\n",
              "                    --jp-ui-font-color1: white;\n",
              "                    --jp-layout-color2: #454545;\n",
              "                    background-color: #383838;\n",
              "                }\n",
              "\n",
              "                .geemap-dark .jupyter-button {\n",
              "                    --jp-layout-color3: #383838;\n",
              "                }\n",
              "\n",
              "                .geemap-colab {\n",
              "                    background-color: var(--colab-primary-surface-color, white);\n",
              "                }\n",
              "\n",
              "                .geemap-colab .jupyter-button {\n",
              "                    --jp-layout-color3: var(--colab-primary-surface-color, white);\n",
              "                }\n",
              "            </style>\n",
              "            "
            ]
          },
          "metadata": {}
        }
      ],
      "source": [
        "metadata_xlsx = '/content/drive/MyDrive/Main_Folder/Metadata/Data.xlsx'\n",
        "metadata_csv = '/content/drive/MyDrive/Main_Folder/Metadata/Data.csv'\n",
        "\n",
        "df = pd.DataFrame(data={\n",
        "    'Initial dates': initial_dates,\n",
        "    'End dates': end_dates,\n",
        "    'Latitude': latitudes,\n",
        "    'Longitude': longitudes,\n",
        "    'Cloudiness Mean': cloudiness_mean,\n",
        "    'Water Percentage Mean': water_percentage_mean,\n",
        "    'Vegetation Percentage Mean': vegetation_percentage_mean\n",
        "})\n",
        "\n",
        "df.to_csv(metadata_csv, index=False)\n",
        "df.to_excel(metadata_xlsx, index=False)"
      ]
    },
    {
      "cell_type": "code",
      "source": [
        "input_images_path = '/content/drive/MyDrive/Main_Folder/Original/'\n",
        "output_images_path = '/content/drive/MyDrive/Main_Folder/Crop/'\n",
        "paths = ['SAR/VH/', 'Optics/', 'NDVI/', 'SAR/VV/']\n",
        "\n",
        "for path in paths:\n",
        "    files_names = os.listdir(input_images_path + path)\n",
        "    os.makedirs(output_images_path + path, exist_ok=True)\n",
        "\n",
        "    for file_name in files_names:\n",
        "        image_path = os.path.join(input_images_path, path, file_name)\n",
        "\n",
        "        img2 = cv.imread(image_path, cv.IMREAD_UNCHANGED)\n",
        "        img3 = img2[:512, :512]  # Top-left crop\n",
        "        img4 = img2[:512, 512:1024]  # Top-right crop\n",
        "\n",
        "        split = file_name.split('.')\n",
        "        cv.imwrite(os.path.join(output_images_path, path, f\"{split[0]}A.{split[1]}\"), img3)\n",
        "        cv.imwrite(os.path.join(output_images_path, path, f\"{split[0]}B.{split[1]}\"), img4)\n",
        "\n",
        "    print(f'Finished {path} folder')"
      ],
      "metadata": {
        "id": "geKVShzwpDra",
        "colab": {
          "base_uri": "https://localhost:8080/",
          "height": 86
        },
        "outputId": "df349a22-4ee2-4591-b734-39a67947aad2"
      },
      "execution_count": 5,
      "outputs": [
        {
          "output_type": "display_data",
          "data": {
            "text/plain": [
              "<IPython.core.display.HTML object>"
            ],
            "text/html": [
              "\n",
              "            <style>\n",
              "                .geemap-dark {\n",
              "                    --jp-widgets-color: white;\n",
              "                    --jp-widgets-label-color: white;\n",
              "                    --jp-ui-font-color1: white;\n",
              "                    --jp-layout-color2: #454545;\n",
              "                    background-color: #383838;\n",
              "                }\n",
              "\n",
              "                .geemap-dark .jupyter-button {\n",
              "                    --jp-layout-color3: #383838;\n",
              "                }\n",
              "\n",
              "                .geemap-colab {\n",
              "                    background-color: var(--colab-primary-surface-color, white);\n",
              "                }\n",
              "\n",
              "                .geemap-colab .jupyter-button {\n",
              "                    --jp-layout-color3: var(--colab-primary-surface-color, white);\n",
              "                }\n",
              "            </style>\n",
              "            "
            ]
          },
          "metadata": {}
        },
        {
          "output_type": "stream",
          "name": "stdout",
          "text": [
            "Finished SAR/VH/ folder\n",
            "Finished Optics/ folder\n",
            "Finished NDVI/ folder\n",
            "Finished SAR/VV/ folder\n"
          ]
        }
      ]
    }
  ],
  "metadata": {
    "colab": {
      "provenance": []
    },
    "kernelspec": {
      "display_name": "Python 3",
      "name": "python3"
    },
    "language_info": {
      "name": "python"
    }
  },
  "nbformat": 4,
  "nbformat_minor": 0
}